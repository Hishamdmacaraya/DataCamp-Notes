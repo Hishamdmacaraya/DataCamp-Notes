{
 "cells": [
  {
   "cell_type": "markdown",
   "id": "a38ca879",
   "metadata": {},
   "source": [
    "#### Operations with other types"
   ]
  },
  {
   "cell_type": "markdown",
   "id": "a5fee129",
   "metadata": {},
   "source": [
    "Exercise:\n",
    "\n",
    "Calculate the product of savings and growth_multiplier. Store the result in year1.\n",
    "What do you think the resulting type will be? Find out by printing out the type of year1.\n",
    "Calculate the sum of desc and desc and store the result in a new variable doubledesc.\n",
    "Print out doubledesc."
   ]
  },
  {
   "cell_type": "code",
   "execution_count": 7,
   "id": "2361314c",
   "metadata": {},
   "outputs": [
    {
     "name": "stdout",
     "output_type": "stream",
     "text": [
      "<class 'float'>\n",
      "compound interestcompound interest\n"
     ]
    }
   ],
   "source": [
    "savings = 100\n",
    "growth_multiplier = 1.1\n",
    "desc = \"compound interest\"\n",
    "\n",
    "# Assign product of savings and growth_multiplier to year1\n",
    "year1 = savings * growth_multiplier\n",
    "\n",
    "# Print the type of year1\n",
    "print(type(year1))\n",
    "\n",
    "# Assign sum of desc and desc to doubledesc\n",
    "doubledesc = (desc + desc)\n",
    "\n",
    "# Print out doubledesc\n",
    "print(doubledesc)\n"
   ]
  },
  {
   "cell_type": "markdown",
   "id": "c5ed765a",
   "metadata": {},
   "source": [
    "#### Python List\n",
    "\n",
    "Use Bracket [] to make a list.\n",
    "E.g. [1,2,3,4,5]"
   ]
  },
  {
   "cell_type": "code",
   "execution_count": 1,
   "id": "a598e12f",
   "metadata": {},
   "outputs": [
    {
     "name": "stdout",
     "output_type": "stream",
     "text": [
      "[1, 2, 3, 4, 5, 6]\n"
     ]
    }
   ],
   "source": [
    "fam = [1, 2, 3, 4, 5, 6]\n",
    "\n",
    "print(fam)"
   ]
  },
  {
   "cell_type": "code",
   "execution_count": 2,
   "id": "8ab56799",
   "metadata": {},
   "outputs": [
    {
     "name": "stdout",
     "output_type": "stream",
     "text": [
      "(1, 2, 3, 4, 5, 6)\n"
     ]
    }
   ],
   "source": [
    "fam = 1, 2, 3, 4, 5, 6\n",
    "\n",
    "print(fam)"
   ]
  },
  {
   "cell_type": "code",
   "execution_count": 3,
   "id": "3de37ac8",
   "metadata": {},
   "outputs": [
    {
     "name": "stdout",
     "output_type": "stream",
     "text": [
      "['liz', 1.73, 'emma', 1.68, 'mom', 1.71, 'dad', 1.89]\n"
     ]
    }
   ],
   "source": [
    "fam = ['liz', 1.73, 'emma', 1.68, 'mom', 1.71, 'dad', 1.89 ]\n",
    "\n",
    "print(fam)"
   ]
  },
  {
   "cell_type": "code",
   "execution_count": 4,
   "id": "6f654571",
   "metadata": {},
   "outputs": [
    {
     "name": "stdout",
     "output_type": "stream",
     "text": [
      "[['liz', 1.73], ['emma', 1.68], ['mom', 1.71], ['dad', 1.89]]\n"
     ]
    }
   ],
   "source": [
    "fam2 = [['liz', 1.73], \n",
    "        ['emma', 1.68], \n",
    "        ['mom', 1.71],\n",
    "        ['dad', 1.89] ]\n",
    "\n",
    "print(fam2)"
   ]
  },
  {
   "cell_type": "code",
   "execution_count": 5,
   "id": "c4c26040",
   "metadata": {},
   "outputs": [
    {
     "data": {
      "text/plain": [
       "list"
      ]
     },
     "execution_count": 5,
     "metadata": {},
     "output_type": "execute_result"
    }
   ],
   "source": [
    "type(fam)"
   ]
  },
  {
   "cell_type": "code",
   "execution_count": 6,
   "id": "5511d052",
   "metadata": {},
   "outputs": [
    {
     "data": {
      "text/plain": [
       "list"
      ]
     },
     "execution_count": 6,
     "metadata": {},
     "output_type": "execute_result"
    }
   ],
   "source": [
    "type(fam2)"
   ]
  },
  {
   "cell_type": "code",
   "execution_count": 8,
   "id": "604649c4",
   "metadata": {},
   "outputs": [
    {
     "name": "stdout",
     "output_type": "stream",
     "text": [
      "['my', 'list', 'is', 'nice']\n"
     ]
    }
   ],
   "source": [
    "a = \"is\"\n",
    "b = \"nice\"\n",
    "my_list = [\"my\", \"list\", a, b]\n",
    "print(my_list)"
   ]
  },
  {
   "cell_type": "markdown",
   "id": "c37632f0",
   "metadata": {},
   "source": [
    "##### Exercise:\n",
    "\n",
    "Create a list, areas, that contains the area of the hallway (hall), kitchen (kit), living room (liv), bedroom (bed) and bathroom (bath), in this order. Use the predefined variables.\n",
    "\n",
    "Print areas with the print() function."
   ]
  },
  {
   "cell_type": "code",
   "execution_count": 9,
   "id": "63641de5",
   "metadata": {},
   "outputs": [
    {
     "name": "stdout",
     "output_type": "stream",
     "text": [
      "[11.25, 18.0, 20.0, 10.75, 9.5]\n"
     ]
    }
   ],
   "source": [
    "# area variables (in square meters)\n",
    "hall = 11.25\n",
    "kit = 18.0\n",
    "liv = 20.0\n",
    "bed = 10.75\n",
    "bath = 9.50\n",
    "\n",
    "# Create list areas\n",
    "areas = [hall, kit, liv, bed, bath]\n",
    "\n",
    "# Print areas\n",
    "print(areas)\n"
   ]
  },
  {
   "cell_type": "markdown",
   "id": "cb17cc0a",
   "metadata": {},
   "source": [
    "Finish the code that creates the areas list. Build the list so that the list first contains the name of each room as a string and then its area. In other words, add the strings \"hallway\", \"kitchen\" and \"bedroom\" at the appropriate locations.\n",
    "\n",
    "Print areas again; is the printout more informative this time?"
   ]
  },
  {
   "cell_type": "code",
   "execution_count": 10,
   "id": "3287dbb3",
   "metadata": {},
   "outputs": [
    {
     "name": "stdout",
     "output_type": "stream",
     "text": [
      "['hallway', 11.25, 'kitchen', 18.0, 'living room', 20.0, 'bedroom', 10.75, 'bathroom', 9.5]\n"
     ]
    }
   ],
   "source": [
    "# area variables (in square meters)\n",
    "hall = 11.25\n",
    "kit = 18.0\n",
    "liv = 20.0\n",
    "bed = 10.75\n",
    "bath = 9.50\n",
    "\n",
    "# Adapt list areas\n",
    "areas = ['hallway', hall, 'kitchen', kit, \"living room\", liv, 'bedroom', bed, \"bathroom\", bath]\n",
    "\n",
    "# Print areas\n",
    "print(areas)"
   ]
  },
  {
   "cell_type": "code",
   "execution_count": 1,
   "id": "2e74d329",
   "metadata": {},
   "outputs": [],
   "source": [
    "import numpy as np "
   ]
  },
  {
   "cell_type": "code",
   "execution_count": 2,
   "id": "089d4d28",
   "metadata": {},
   "outputs": [],
   "source": [
    "height = [1.73, 1.68, 1.71, 1.89, 1.79]\n",
    "weight = [65.4, 59.2, 63.6, 88.4, 68.7]"
   ]
  },
  {
   "cell_type": "code",
   "execution_count": 3,
   "id": "193b2b6d",
   "metadata": {},
   "outputs": [
    {
     "name": "stdout",
     "output_type": "stream",
     "text": [
      "[1.73, 1.68, 1.71, 1.89, 1.79]\n"
     ]
    }
   ],
   "source": [
    "print(height)"
   ]
  },
  {
   "cell_type": "code",
   "execution_count": 4,
   "id": "377c1db6",
   "metadata": {},
   "outputs": [
    {
     "name": "stdout",
     "output_type": "stream",
     "text": [
      "[65.4, 59.2, 63.6, 88.4, 68.7]\n"
     ]
    }
   ],
   "source": [
    "print(weight)"
   ]
  },
  {
   "cell_type": "markdown",
   "id": "621a3a2e",
   "metadata": {},
   "source": [
    "won't work\n",
    "bmi = weight/height**2"
   ]
  },
  {
   "cell_type": "code",
   "execution_count": 5,
   "id": "4d13d40f",
   "metadata": {},
   "outputs": [],
   "source": [
    "import numpy as np \n",
    "\n",
    "np_height = np.array(height)\n",
    "np_weight = np.array(weight)\n"
   ]
  },
  {
   "cell_type": "code",
   "execution_count": 6,
   "id": "183dbc94",
   "metadata": {},
   "outputs": [],
   "source": [
    "bmi = np_weight/np_height**2"
   ]
  },
  {
   "cell_type": "code",
   "execution_count": 7,
   "id": "e1144496",
   "metadata": {},
   "outputs": [
    {
     "name": "stdout",
     "output_type": "stream",
     "text": [
      "[21.85171573 20.97505669 21.75028214 24.7473475  21.44127836]\n"
     ]
    }
   ],
   "source": [
    "print(bmi)"
   ]
  },
  {
   "cell_type": "code",
   "execution_count": 9,
   "id": "15b391e9",
   "metadata": {},
   "outputs": [
    {
     "name": "stdout",
     "output_type": "stream",
     "text": [
      "20.97505668934241\n"
     ]
    }
   ],
   "source": [
    "print(bmi[1])"
   ]
  },
  {
   "cell_type": "code",
   "execution_count": 10,
   "id": "6c7b9cd6",
   "metadata": {},
   "outputs": [
    {
     "data": {
      "text/plain": [
       "numpy.ndarray"
      ]
     },
     "execution_count": 10,
     "metadata": {},
     "output_type": "execute_result"
    }
   ],
   "source": [
    "type(np_height)"
   ]
  },
  {
   "cell_type": "code",
   "execution_count": 11,
   "id": "cd3465da",
   "metadata": {},
   "outputs": [
    {
     "name": "stdout",
     "output_type": "stream",
     "text": [
      "[1.73, 1.68, 1.71, 1.89, 1.79, 65.4, 59.2, 63.6, 88.4, 68.7]\n"
     ]
    }
   ],
   "source": [
    "print(height + weight)"
   ]
  },
  {
   "cell_type": "code",
   "execution_count": 13,
   "id": "fbc8f713",
   "metadata": {},
   "outputs": [
    {
     "name": "stdout",
     "output_type": "stream",
     "text": [
      "[67.13 60.88 65.31 90.29 70.49]\n"
     ]
    }
   ],
   "source": [
    "print(np_height + np_weight)"
   ]
  },
  {
   "cell_type": "code",
   "execution_count": 16,
   "id": "1d0d93f4",
   "metadata": {},
   "outputs": [
    {
     "name": "stdout",
     "output_type": "stream",
     "text": [
      "[False False False  True False]\n"
     ]
    }
   ],
   "source": [
    "print(bmi >23)"
   ]
  },
  {
   "cell_type": "code",
   "execution_count": 15,
   "id": "6c251231",
   "metadata": {},
   "outputs": [
    {
     "name": "stdout",
     "output_type": "stream",
     "text": [
      "[24.7473475]\n"
     ]
    }
   ],
   "source": [
    "print(bmi[bmi >23])"
   ]
  },
  {
   "cell_type": "code",
   "execution_count": null,
   "id": "fe8bc60c",
   "metadata": {},
   "outputs": [],
   "source": [
    "\n",
    "print('What is the median engine size in liters?')\n",
    "print()\n",
    "\n",
    "avg_engine_size_np = round((np.mean(cars_engine_sizes)), 2)\n",
    "avg_engine_size_str = str(avg_engine_size_np)\n",
    "print(\"The average car engine size in Canada is: \" + avg_engine_size_str + \" L\")\n",
    "What is the median engine size in liters?\n",
    "\n",
    "The average car engine size in Canada is: 3.16 L"
   ]
  },
  {
   "cell_type": "code",
   "execution_count": null,
   "id": "c85a55a2",
   "metadata": {},
   "outputs": [],
   "source": [
    "import numpy as np\n",
    "\n",
    "newdata = cars.loc[(cars['Fuel Type'] == 'X'), ['Fuel Consumption Comb (L/100 km)']], \n",
    "data_np = float(round(np.mean(newdata), 2))\n",
    "print(data_np)"
   ]
  },
  {
   "cell_type": "code",
   "execution_count": null,
   "id": "68fdfeb1",
   "metadata": {},
   "outputs": [],
   "source": [
    "print('What is the correlation between fuel consumption and CO2 emissions?')\n",
    "\n",
    "x = np.corrcoef(cars_fuel_consumption, cars_co2_emissions)\n",
    "print(x)"
   ]
  },
  {
   "cell_type": "code",
   "execution_count": null,
   "id": "ed873417",
   "metadata": {},
   "outputs": [],
   "source": [
    "# Which vehicle class has lower average CO2 emissions, 'SUV - SMALL' or 'MID-SIZE'?\n",
    "\n",
    "cls = cars.loc[(cars['Vehicle Class'] == 'SUV - SMALL'), ['CO2 Emissions(g/km)']]\n",
    "avg_cls = float(round(np.mean(cls), 2))\n",
    "print(avg_cls)"
   ]
  },
  {
   "cell_type": "code",
   "execution_count": null,
   "id": "eb61ae3a",
   "metadata": {},
   "outputs": [],
   "source": [
    "\n",
    "#What are the average CO2 emissions for all vehicles? For vehicles with an engine size of 2.0 liters or smaller?\n",
    "\n",
    "em = cars.loc[(cars['Engine Size(L)'] <= 2), ['CO2 Emissions(g/km)']]\n",
    "em_avg = float(round(np.mean(em), 2))\n",
    "print(avg_cls)"
   ]
  },
  {
   "cell_type": "markdown",
   "id": "5b191514",
   "metadata": {},
   "source": [
    "### String Methods\n",
    "Strings come with a bunch of methods. Follow the instructions closely to discover some of them. If you want to discover them in more detail, you can always type help(str) in the IPython Shell.\n",
    "\n",
    "A string place has already been created for you to experiment with.\n",
    "\n",
    "##### Instructions\n",
    "\n",
    "Use the upper() method on place and store the result in place_up. Use the syntax for calling methods that you learned in the previous video.\n",
    "Print out place and place_up. Did both change?\n",
    "Print out the number of o's on the variable place by calling count() on place and passing the letter 'o' as an input to the method. We're talking about the variable place, not the word \"place\"!"
   ]
  },
  {
   "cell_type": "code",
   "execution_count": 1,
   "id": "23da6016",
   "metadata": {},
   "outputs": [
    {
     "name": "stdout",
     "output_type": "stream",
     "text": [
      "poolhouse\n",
      "POOLHOUSE\n",
      "3\n"
     ]
    }
   ],
   "source": [
    "# string to experiment with: place\n",
    "place = \"poolhouse\"\n",
    "\n",
    "# Use upper() on place: place_up\n",
    "place_up = place.upper()\n",
    "\n",
    "# Print out place and place_up\n",
    "print(place)\n",
    "print(place_up)\n",
    "\n",
    "# Print out the number of o's in place\n",
    "print(place.count('o'))\n"
   ]
  },
  {
   "cell_type": "markdown",
   "id": "e07d8475",
   "metadata": {},
   "source": [
    "#### String Methods\n",
    "Strings come with a bunch of methods. Follow the instructions closely to discover some of them. If you want to discover them in more detail, you can always type help(str) in the IPython Shell.\n",
    "\n",
    "A string place has already been created for you to experiment with.\n",
    "\n",
    "##### Instructions\n",
    "\n",
    "Use the upper() method on place and store the result in place_up. Use the syntax for calling methods that you learned in the previous video.\n",
    "Print out place and place_up. Did both change?\n",
    "Print out the number of o's on the variable place by calling count() on place and passing the letter 'o' as an input to the method. We're talking about the variable place, not the word \"place\"!"
   ]
  },
  {
   "cell_type": "markdown",
   "id": "ac1053c6",
   "metadata": {},
   "source": [
    "#### List Methods\n",
    "Strings are not the only Python types that have methods associated with them. Lists, floats, integers and booleans are also types that come packaged with a bunch of useful methods. In this exercise, you'll be experimenting with:\n",
    "\n",
    "index(), to get the index of the first element of a list that matches its input and\n",
    "count(), to get the number of times an element appears in a list.\n",
    "You'll be working on the list with the area of different parts of a house: areas.\n",
    "\n",
    "##### Instructions\n",
    "Use the index() method to get the index of the element in areas that is equal to 20.0. Print out this index.\n",
    "Call count() on areas to find out how many times 9.50 appears in the list. Again, simply print out this number."
   ]
  },
  {
   "cell_type": "code",
   "execution_count": 2,
   "id": "528abba5",
   "metadata": {},
   "outputs": [
    {
     "name": "stdout",
     "output_type": "stream",
     "text": [
      "2\n",
      "1\n"
     ]
    }
   ],
   "source": [
    "# Create list areas\n",
    "areas = [11.25, 18.0, 20.0, 10.75, 9.50]\n",
    "\n",
    "# Print out the index of the element 20.0\n",
    "print(areas.index(20.0))\n",
    "\n",
    "# Print out how often 9.50 appears in areas\n",
    "print(areas.count(9.50))"
   ]
  },
  {
   "cell_type": "markdown",
   "id": "c3db8bc7",
   "metadata": {},
   "source": [
    "#### List Methods (2)\n",
    "Most list methods will change the list they're called on. Examples are:\n",
    "\n",
    "append(), that adds an element to the list it is called on,\n",
    "remove(), that removes the first element of a list that matches the input, and\n",
    "reverse(), that reverses the order of the elements in the list it is called on.\n",
    "You'll be working on the list with the area of different parts of the house: areas.\n",
    "\n",
    "##### Instructions\n",
    "\n",
    "Use append() twice to add the size of the poolhouse and the garage again: 24.5 and 15.45, respectively. Make sure to add them in this order.\n",
    "Print out areas\n",
    "Use the reverse() method to reverse the order of the elements in areas.\n",
    "Print out areas once more."
   ]
  },
  {
   "cell_type": "markdown",
   "id": "fcb786a3",
   "metadata": {},
   "source": [
    "#### List Methods (2)\n",
    "Most list methods will change the list they're called on. Examples are:\n",
    "\n",
    "append(), that adds an element to the list it is called on,\n",
    "remove(), that removes the first element of a list that matches the input, and\n",
    "reverse(), that reverses the order of the elements in the list it is called on.\n",
    "You'll be working on the list with the area of different parts of the house: areas.\n",
    "\n",
    "##### Instructions\n",
    "\n",
    "Use append() twice to add the size of the poolhouse and the garage again: 24.5 and 15.45, respectively. Make sure to add them in this order.\n",
    "Print out areas\n",
    "Use the reverse() method to reverse the order of the elements in areas.\n",
    "Print out areas once more."
   ]
  },
  {
   "cell_type": "code",
   "execution_count": 3,
   "id": "f012b1e4",
   "metadata": {},
   "outputs": [
    {
     "name": "stdout",
     "output_type": "stream",
     "text": [
      "[11.25, 18.0, 20.0, 10.75, 9.5, 24.5, 15.45]\n",
      "[15.45, 24.5, 9.5, 10.75, 20.0, 18.0, 11.25]\n"
     ]
    }
   ],
   "source": [
    "# Create list areas\n",
    "areas = [11.25, 18.0, 20.0, 10.75, 9.50]\n",
    "\n",
    "# Use append twice to add poolhouse and garage size\n",
    "areas.append(24.5)\n",
    "areas.append(15.45)\n",
    "\n",
    "# Print out areas\n",
    "print(areas)\n",
    "\n",
    "# Reverse the orders of the elements in areas\n",
    "areas.reverse()\n",
    "\n",
    "\n",
    "# Print out areas\n",
    "print(areas)"
   ]
  },
  {
   "cell_type": "markdown",
   "id": "5c336d34",
   "metadata": {},
   "source": [
    "#### Import package\n",
    "As a data scientist, some notions of geometry never hurt. Let's refresh some of the basics.\n",
    "\n",
    "For a fancy clustering algorithm, you want to find the circumference, \n",
    "C, and area, A, of a circle. When the radius of the circle is r, you can calculate C and A as:\n",
    "\n",
    "C = 2 \\pi r\n",
    "\n",
    "A = \\pi r^2\n",
    "\n",
    "To use the constant pi, you'll need the math package. A variable r is already coded in the script. Fill in the code to calculate C and A and see how the print() functions create some nice printouts.\n",
    "\n",
    "##### Instructions\n",
    "Import the math package. Now you can access the constant pi with math.pi.\n",
    "Calculate the circumference of the circle and store it in C.\n",
    "Calculate the area of the circle and store it in A."
   ]
  },
  {
   "cell_type": "code",
   "execution_count": 4,
   "id": "edda4c67",
   "metadata": {},
   "outputs": [
    {
     "name": "stdout",
     "output_type": "stream",
     "text": [
      "Circumference: 2.701769682087222\n",
      "Area: 0.5808804816487527\n"
     ]
    }
   ],
   "source": [
    "# Definition of radius\n",
    "r = 0.43\n",
    "\n",
    "# Import the math package\n",
    "import math\n",
    "\n",
    "# Calculate C\n",
    "C = 2*math.pi*r\n",
    "\n",
    "# Calculate A\n",
    "A = math.pi * r**2\n",
    "\n",
    "# Build printout\n",
    "print(\"Circumference: \" + str(C))\n",
    "print(\"Area: \" + str(A))"
   ]
  },
  {
   "cell_type": "markdown",
   "id": "a7adddbf",
   "metadata": {},
   "source": [
    "#### Selective import\n",
    "General imports, like import math, make all functionality from the math package available to you. However, if you decide to only use a specific part of a package, you can always make your import more selective:\n",
    "\n",
    "from math import pi\n",
    "Let's say the Moon's orbit around planet Earth is a perfect circle, with a radius r (in km) that is defined in the script.\n",
    "\n",
    "##### Instructions\n",
    "\n",
    "Perform a selective import from the math package where you only import the radians function.\n",
    "Calculate the distance travelled by the Moon over 12 degrees of its orbit. Assign the result to dist. You can calculate this as r * phi, where r is the radius and phi is the angle in radians. To convert an angle in degrees to an angle in radians, use the radians() function, which you just imported.\n",
    "Print out dist."
   ]
  },
  {
   "cell_type": "markdown",
   "id": "466abf5d",
   "metadata": {},
   "source": [
    "#### Selective import\n",
    "General imports, like import math, make all functionality from the math package available to you. However, if you decide to only use a specific part of a package, you can always make your import more selective:\n",
    "\n",
    "from math import pi\n",
    "\n",
    "Let's say the Moon's orbit around planet Earth is a perfect circle, with a radius r (in km) that is defined in the script.\n",
    "\n",
    "##### Instructions\n",
    "\n",
    "Perform a selective import from the math package where you only import the radians function.\n",
    "Calculate the distance travelled by the Moon over 12 degrees of its orbit. Assign the result to dist. You can calculate this as r * phi, where r is the radius and phi is the angle in radians. To convert an angle in degrees to an angle in radians, use the radians() function, which you just imported.\n",
    "Print out dist."
   ]
  },
  {
   "cell_type": "markdown",
   "id": "52730f34",
   "metadata": {},
   "source": [
    "#### Different ways of importing\n",
    "There are several ways to import packages and modules into Python. Depending on the import call, you'll have to use different Python code.\n",
    "\n",
    "Suppose you want to use the function inv(), which is in the linalg subpackage of the scipy package. You want to be able to use this function as follows:\n",
    "\n",
    "my_inv([[1,2], [3,4]])\n",
    "Which import statement will you need in order to run the above code without an error?\n",
    "\n",
    "\n",
    "from scipy.linalg import inv as my_inv"
   ]
  },
  {
   "cell_type": "code",
   "execution_count": 5,
   "id": "5d33a322",
   "metadata": {},
   "outputs": [
    {
     "data": {
      "text/plain": [
       "array([[-2. ,  1. ],\n",
       "       [ 1.5, -0.5]])"
      ]
     },
     "execution_count": 5,
     "metadata": {},
     "output_type": "execute_result"
    }
   ],
   "source": [
    "from scipy.linalg import inv as my_inv\n",
    "\n",
    "my_inv([[1,2], [3,4]])\n"
   ]
  },
  {
   "cell_type": "markdown",
   "id": "7fee39c3",
   "metadata": {},
   "source": [
    "#### Subsetting NumPy Arrays\n",
    "You've seen it with your own eyes: Python lists and numpy arrays sometimes behave differently. Luckily, there are still certainties in this world. For example, subsetting (using the square bracket notation on lists or arrays) works exactly the same. To see this for yourself, try the following lines of code in the IPython Shell:\n",
    "\n",
    "x = [\"a\", \"b\", \"c\"]\n",
    "\n",
    "x[1]\n",
    "\n",
    "np_x = np.array(x)\n",
    "\n",
    "np_x[1]\n",
    "\n",
    "The script in the editor already contains code that imports numpy as np, and stores both the height and weight of the MLB players as numpy arrays.\n",
    "\n",
    "***Instructions***\n",
    "\n",
    "Subset np_weight_lb by printing out the element at index 50.\n",
    "Print out a sub-array of np_height_in that contains the elements at index 100 up to and including index 110."
   ]
  },
  {
   "cell_type": "code",
   "execution_count": 11,
   "id": "dff4eae6",
   "metadata": {},
   "outputs": [
    {
     "name": "stdout",
     "output_type": "stream",
     "text": [
      "50\n",
      "[]\n"
     ]
    }
   ],
   "source": [
    "# height_in and weight_lb are available as a regular lists\n",
    "\n",
    "height_in = list(range(0,50))\n",
    "weight_lb = list(range(0,300))\n",
    "\n",
    "# Import numpy\n",
    "import numpy as np\n",
    "\n",
    "# Store weight and height lists as numpy arrays\n",
    "np_weight_lb = np.array(weight_lb)\n",
    "np_height_in = np.array(height_in)\n",
    "\n",
    "# Print out the weight at index 50\n",
    "print(np_weight_lb[50])\n",
    "\n",
    "# Print out sub-array of np_height_in: index 100 up to and including index 110\n",
    "print(np_height_in[100:111])"
   ]
  },
  {
   "cell_type": "code",
   "execution_count": 16,
   "id": "d4b64bb5",
   "metadata": {},
   "outputs": [
    {
     "data": {
      "text/plain": [
       "(50,)"
      ]
     },
     "execution_count": 16,
     "metadata": {},
     "output_type": "execute_result"
    }
   ],
   "source": [
    "np_height_in.shape"
   ]
  },
  {
   "cell_type": "markdown",
   "id": "34e94721",
   "metadata": {},
   "source": [
    "### 2D NumPy Arrays\n",
    "\n",
    "ndarrays means for n-dimentional arrays"
   ]
  },
  {
   "cell_type": "markdown",
   "id": "a9106a39",
   "metadata": {},
   "source": [
    "calling indexed array: \n",
    "\n",
    "array_name[rows, collumns]\n",
    "\n",
    "example:\n",
    "\n",
    "array_name[:, 1:3]\n",
    "\n",
    "\n",
    "Before working on the actual MLB data, let's try to create a 2D numpy array from a small list of lists.\n",
    "\n",
    "In this exercise, baseball is a list of lists. The main list contains 4 elements. Each of these elements is a list containing the height and the weight of 4 baseball players, in this order. baseball is already coded for you in the script.\n",
    "\n",
    "***Instructions***\n",
    "\n",
    "Use np.array() to create a 2D numpy array from baseball. Name it np_baseball.\n",
    "Print out the type of np_baseball.\n",
    "Print out the shape attribute of np_baseball. Use np_baseball.shape."
   ]
  },
  {
   "cell_type": "code",
   "execution_count": 17,
   "id": "77759a63",
   "metadata": {},
   "outputs": [
    {
     "name": "stdout",
     "output_type": "stream",
     "text": [
      "<class 'numpy.ndarray'>\n",
      "(4, 2)\n"
     ]
    }
   ],
   "source": [
    "# Create baseball, a list of lists\n",
    "baseball = [[180, 78.4],\n",
    "            [215, 102.7],\n",
    "            [210, 98.5],\n",
    "            [188, 75.2]]\n",
    "\n",
    "# Import numpy\n",
    "import numpy as np\n",
    "\n",
    "# Create a 2D numpy array from baseball: np_baseball\n",
    "np_baseball = np.array(baseball)\n",
    "\n",
    "# Print out the type of np_baseball\n",
    "print(type(np_baseball))\n",
    "\n",
    "# Print out the shape of np_baseball\n",
    "print(np_baseball.shape)"
   ]
  },
  {
   "cell_type": "markdown",
   "id": "25bd06d5",
   "metadata": {},
   "source": [
    "#### Baseball data in 2D form\n",
    "You have another look at the MLB data and realize that it makes more sense to restructure all this information in a 2D numpy array. This array should have 1015 rows, corresponding to the 1015 baseball players you have information on, and 2 columns (for height and weight).\n",
    "\n",
    "The MLB was, again, very helpful and passed you the data in a different structure, a Python list of lists. In this list of lists, each sublist represents the height and weight of a single baseball player. The name of this embedded list is baseball.\n",
    "\n",
    "Can you store the data as a 2D array to unlock numpy's extra functionality?\n",
    "\n",
    "***Instructions***\n",
    "\n",
    "Use np.array() to create a 2D numpy array from baseball. Name it np_baseball.\n",
    "Print out the shape attribute of np_baseball."
   ]
  },
  {
   "cell_type": "code",
   "execution_count": 18,
   "id": "cb1b496e",
   "metadata": {},
   "outputs": [
    {
     "name": "stdout",
     "output_type": "stream",
     "text": [
      "(4, 2)\n"
     ]
    }
   ],
   "source": [
    "# baseball is available as a regular list of lists\n",
    "\n",
    "# Import numpy package\n",
    "import numpy as np\n",
    "\n",
    "# Create a 2D numpy array from baseball: np_baseball\n",
    "np_baseball = np.array(baseball)\n",
    "\n",
    "# Print out the shape of np_baseball\n",
    "print(np_baseball.shape)"
   ]
  },
  {
   "cell_type": "code",
   "execution_count": 26,
   "id": "8570062a",
   "metadata": {},
   "outputs": [
    {
     "data": {
      "text/plain": [
       "array([['a', 'b'],\n",
       "       ['c', 'd']], dtype='<U1')"
      ]
     },
     "execution_count": 26,
     "metadata": {},
     "output_type": "execute_result"
    }
   ],
   "source": [
    "# regular list of lists\n",
    "x = [[\"a\", \"b\"], [\"c\", \"d\"]]\n",
    "\n",
    "\n",
    "# numpy\n",
    "import numpy as np\n",
    "np_x = np.array(x)\n",
    "np_x[:]"
   ]
  },
  {
   "cell_type": "markdown",
   "id": "a5673cd3",
   "metadata": {},
   "source": [
    "### Subsetting 2D NumPy Arrays\n",
    "If your 2D numpy array has a regular structure, i.e. each row and column has a fixed number of values, complicated ways of subsetting become very easy. Have a look at the code below where the elements \"a\" and \"c\" are extracted from a list of lists.\n",
    "\n",
    "***regular list of lists***\n",
    "x = [[\"a\", \"b\"], [\"c\", \"d\"]]\n",
    "[x[0][0], x[1][0]]\n",
    "\n",
    "***numpy***\n",
    "import numpy as np\n",
    "np_x = np.array(x)\n",
    "np_x[:, 0]\n",
    "\n",
    "For regular Python lists, this is a real pain. For 2D numpy arrays, however, it's pretty intuitive! The indexes before the comma refer to the rows, while those after the comma refer to the columns. The : is for slicing; in this example, it tells Python to include all rows.\n",
    "\n",
    "The code that converts the pre-loaded baseball list to a 2D numpy array is already in the script. The first column contains the players' height in inches and the second column holds player weight, in pounds. Add some lines to make the correct selections. Remember that in Python, the first element is at index 0!\n",
    "\n",
    "***Instructions***\n",
    "\n",
    "Print out the 50th row of np_baseball.\n",
    "Make a new variable, np_weight_lb, containing the entire second column of np_baseball.\n",
    "Select the height (first column) of the 124th baseball player in np_baseball and print it out."
   ]
  },
  {
   "cell_type": "markdown",
   "id": "0c96c673",
   "metadata": {},
   "source": [
    "### Random Data Generation"
   ]
  },
  {
   "cell_type": "code",
   "execution_count": 36,
   "id": "d6646f6b",
   "metadata": {},
   "outputs": [
    {
     "name": "stdout",
     "output_type": "stream",
     "text": [
      "[ 1.69 36.69]\n",
      "1.82\n"
     ]
    }
   ],
   "source": [
    "import numpy as np\n",
    "\n",
    "height = np.round(np.random.normal(1.75, 0.20, 500), 2)\n",
    "weight = np.round(np.random.normal(60.32, 15, 500), 2)\n",
    "np_baseball = np.column_stack((height, weight))\n",
    "\n",
    "# Print out the 50th row of np_baseball\n",
    "print(np_baseball[49, :])\n",
    "\n",
    "# Select the entire second column of np_baseball: np_weight_lb\n",
    "np_weight_lb = np_baseball[:, 1]\n",
    "\n",
    "# Print out height of 124th player\n",
    "print(np_baseball[123, 0])"
   ]
  },
  {
   "cell_type": "markdown",
   "id": "28642c47",
   "metadata": {},
   "source": [
    "### 2D Arithmetic\n",
    "\n",
    "Remember how you calculated the Body Mass Index for all baseball players? numpy was able to perform all calculations element-wise (i.e. element by element). For 2D numpy arrays this isn't any different! You can combine matrices with single numbers, with vectors, and with other matrices.\n",
    "\n",
    "Execute the code below in the IPython shell and see if you understand:\n",
    "\n",
    "import numpy as np\n",
    "\n",
    "np_mat = np.array([[1, 2],\n",
    "                   \n",
    "                   [3, 4],\n",
    "                   \n",
    "                   [5, 6]])\n",
    "\n",
    "np_mat * 2\n",
    "\n",
    "np_mat + np.array([10, 10])\n",
    "\n",
    "np_mat + np_mat\n",
    "\n",
    "np_baseball is coded for you; it's again a 2D numpy array with 3 columns representing height (in inches), weight (in pounds) and age (in years).\n",
    "\n",
    "***Instructions***\n",
    "\n",
    "You managed to get hold of the changes in height, weight and age of all baseball players. It is available as a 2D numpy array, updated. Add np_baseball and updated and print out the result.\n",
    "You want to convert the units of height and weight to metric (meters and kilograms, respectively). As a first step, create a numpy array with three values: 0.0254, 0.453592 and 1. Name this array conversion.\n",
    "Multiply np_baseball with conversion and print out the result."
   ]
  },
  {
   "cell_type": "code",
   "execution_count": 30,
   "id": "8d9009ea",
   "metadata": {},
   "outputs": [
    {
     "data": {
      "text/plain": [
       "array([[ 2,  4],\n",
       "       [ 6,  8],\n",
       "       [10, 12]])"
      ]
     },
     "execution_count": 30,
     "metadata": {},
     "output_type": "execute_result"
    }
   ],
   "source": [
    "import numpy as np\n",
    "np_mat = np.array([[1, 2],\n",
    "                   [3, 4],\n",
    "                   [5, 6]])\n",
    "np_mat * 2\n"
   ]
  },
  {
   "cell_type": "code",
   "execution_count": 31,
   "id": "5a3a898c",
   "metadata": {},
   "outputs": [
    {
     "data": {
      "text/plain": [
       "array([[11, 12],\n",
       "       [13, 14],\n",
       "       [15, 16]])"
      ]
     },
     "execution_count": 31,
     "metadata": {},
     "output_type": "execute_result"
    }
   ],
   "source": [
    "np_mat + np.array([10, 10])\n"
   ]
  },
  {
   "cell_type": "code",
   "execution_count": 32,
   "id": "c384dff7",
   "metadata": {},
   "outputs": [
    {
     "data": {
      "text/plain": [
       "array([[ 2,  4],\n",
       "       [ 6,  8],\n",
       "       [10, 12]])"
      ]
     },
     "execution_count": 32,
     "metadata": {},
     "output_type": "execute_result"
    }
   ],
   "source": [
    "np_mat + np_mat"
   ]
  },
  {
   "cell_type": "code",
   "execution_count": null,
   "id": "03894a6e",
   "metadata": {},
   "outputs": [],
   "source": []
  },
  {
   "cell_type": "code",
   "execution_count": 45,
   "id": "93bd2065",
   "metadata": {},
   "outputs": [
    {
     "name": "stdout",
     "output_type": "stream",
     "text": [
      "[[ 3.000e-02  3.622e+01  4.162e+01]\n",
      " [ 6.000e-02  2.229e+01 -5.591e+01]\n",
      " [ 4.000e-02  2.700e+01  4.120e+00]\n",
      " ...\n",
      " [ 4.000e-02  3.658e+01 -6.684e+01]\n",
      " [ 5.000e-02  3.249e+01 -1.243e+01]\n",
      " [ 5.000e-02  1.843e+01  6.842e+01]]\n"
     ]
    }
   ],
   "source": [
    "import numpy as np\n",
    "\n",
    "height = np.round(np.random.normal(1.75, 0.20, 500), 2)\n",
    "weight = np.round(np.random.normal(60.32, 15, 500), 2)\n",
    "age = np.round(np.random.normal(18, 35, 500), 2)\n",
    "np_baseball = np.column_stack((height, weight, age))\n",
    "\n",
    "\n",
    "# Create numpy array: conversion\n",
    "conversion = np.array([0.0254, 0.453592, 1])\n",
    "\n",
    "# Print out product of np_baseball and conversion\n",
    "print(np.round((np_baseball * conversion),2))"
   ]
  },
  {
   "cell_type": "markdown",
   "id": "5a1791f2",
   "metadata": {},
   "source": [
    "### Average versus median\n",
    "You now know how to use numpy functions to get a better feeling for your data. It basically comes down to importing numpy and then calling several simple functions on the numpy arrays:\n",
    "\n",
    "import numpy as np\n",
    "\n",
    "x = [1, 4, 8, 10, 12]\n",
    "\n",
    "np.mean(x)\n",
    "\n",
    "np.median(x)\n",
    "\n",
    "The baseball data is available as a 2D numpy array with 3 columns (height, weight, age) and 1015 rows. The name of this numpy array is np_baseball. After restructuring the data, however, you notice that some height values are abnormally high. Follow the instructions and discover which summary statistic is best suited if you're dealing with so-called outliers.\n",
    "\n",
    "***Instructions***\n",
    "\n",
    "Create numpy array np_height_in that is equal to first column of np_baseball.\n",
    "Print out the mean of np_height_in.\n",
    "Print out the median of np_height_in."
   ]
  },
  {
   "cell_type": "code",
   "execution_count": 48,
   "id": "983261bb",
   "metadata": {},
   "outputs": [
    {
     "name": "stdout",
     "output_type": "stream",
     "text": [
      "7.0\n",
      "8.0\n"
     ]
    }
   ],
   "source": [
    "import numpy as np\n",
    "x = [1, 4, 8, 10, 12]\n",
    "print(np.mean(x))\n",
    "print(np.median(x))"
   ]
  },
  {
   "cell_type": "code",
   "execution_count": 50,
   "id": "ec819a52",
   "metadata": {},
   "outputs": [
    {
     "name": "stdout",
     "output_type": "stream",
     "text": [
      "1.75412\n",
      "1.76\n"
     ]
    }
   ],
   "source": [
    "# np_baseball is available\n",
    "\n",
    "# Import numpy\n",
    "import numpy as np\n",
    "\n",
    "# Create np_height_in from np_baseball\n",
    "np_height_in = np_baseball[:,0]\n",
    "\n",
    "# Print out the mean of np_height_in\n",
    "print(np.mean(np_height_in))\n",
    "\n",
    "# Print out the median of np_height_in\n",
    "print(np.median(np_height_in))"
   ]
  },
  {
   "cell_type": "markdown",
   "id": "3efe68bd",
   "metadata": {},
   "source": [
    "#### Explore the baseball data\n",
    "Because the mean and median are so far apart, you decide to complain to the MLB. They find the error and send the corrected data over to you. It's again available as a 2D NumPy array np_baseball, with three columns.\n",
    "\n",
    "The Python script in the editor already includes code to print out informative messages with the different summary statistics. Can you finish the job?\n",
    "\n",
    "***Instructions***\n",
    "\n",
    "The code to print out the mean height is already included. Complete the code for the median height. Replace None with the correct code.\n",
    "Use np.std() on the first column of np_baseball to calculate stddev. Replace None with the correct code.\n",
    "Do big players tend to be heavier? Use np.corrcoef() to store the correlation between the first and second column of np_baseball in corr. Replace None with the correct code."
   ]
  },
  {
   "cell_type": "code",
   "execution_count": 51,
   "id": "3e7c57b6",
   "metadata": {},
   "outputs": [
    {
     "name": "stdout",
     "output_type": "stream",
     "text": [
      "Average: 1.75412\n",
      "Median: 1.76\n",
      "Standard Deviation: 0.1956185717154688\n",
      "Correlation: [[1.         0.05076593]\n",
      " [0.05076593 1.        ]]\n"
     ]
    }
   ],
   "source": [
    "# np_baseball is available\n",
    "\n",
    "# Import numpy\n",
    "import numpy as np\n",
    "\n",
    "# Print mean height (first column)\n",
    "avg = np.mean(np_baseball[:,0])\n",
    "print(\"Average: \" + str(avg))\n",
    "\n",
    "# Print median height. Replace 'None'\n",
    "med = np.median(np_baseball[:,0])\n",
    "print(\"Median: \" + str(med))\n",
    "\n",
    "# Print out the standard deviation on height. Replace 'None'\n",
    "stddev = np.std(np_baseball[:,0])\n",
    "print(\"Standard Deviation: \" + str(stddev))\n",
    "\n",
    "# Print out correlation between first and second column. Replace 'None'\n",
    "corr = np.corrcoef(np_baseball[:, 0], np_baseball[:, 1])\n",
    "print(\"Correlation: \" + str(corr))"
   ]
  },
  {
   "cell_type": "markdown",
   "id": "ae7bb045",
   "metadata": {},
   "source": [
    "### Blend it all together\n",
    "In the last few exercises you've learned everything there is to know about heights and weights of baseball players. Now it's time to dive into another sport: soccer.\n",
    "\n",
    "You've contacted FIFA for some data and they handed you two lists. The lists are the following:\n",
    "\n",
    "positions = ['GK', 'M', 'A', 'D', ...]\n",
    "\n",
    "heights = [191, 184, 185, 180, ...]\n",
    "\n",
    "Each element in the lists corresponds to a player. The first list, positions, contains strings representing each player's position. The possible positions are: 'GK' (goalkeeper), 'M' (midfield), 'A' (attack) and 'D' (defense). The second list, heights, contains integers representing the height of the player in cm. The first player in the lists is a goalkeeper and is pretty tall (191 cm).\n",
    "\n",
    "You're fairly confident that the median height of goalkeepers is higher than that of other players on the soccer field. Some of your friends don't believe you, so you are determined to show them using the data you received from FIFA and your newly acquired Python skills.\n",
    "\n",
    "***Instructions***\n",
    "\n",
    "Convert heights and positions, which are regular lists, to numpy arrays. Call them np_heights and np_positions.\n",
    "Extract all the heights of the goalkeepers. You can use a little trick here: use np_positions == 'GK' as an index for np_heights. Assign the result to gk_heights.\n",
    "Extract all the heights of all the other players. This time use np_positions != 'GK' as an index for np_heights. Assign the result to other_heights.\n",
    "Print out the median height of the goalkeepers using np.median(). Replace None with the correct code.\n",
    "Do the same for the other players. Print out their median height. Replace None with the correct code."
   ]
  },
  {
   "cell_type": "code",
   "execution_count": 54,
   "id": "fbb3135d",
   "metadata": {},
   "outputs": [],
   "source": [
    "#positions = ['GK', 'M', 'A', 'D', ...]\n",
    "#heights = [191, 184, 185, 180, ...]\n",
    "\n",
    "#print(position)\n",
    "#print(height)"
   ]
  },
  {
   "cell_type": "markdown",
   "id": "b8675ebb",
   "metadata": {},
   "source": [
    "### Blend it all together\n",
    "In the last few exercises you've learned everything there is to know about heights and weights of baseball players. Now it's time to dive into another sport: soccer.\n",
    "\n",
    "You've contacted FIFA for some data and they handed you two lists. The lists are the following:\n",
    "\n",
    "positions = ['GK', 'M', 'A', 'D', ...]\n",
    "\n",
    "heights = [191, 184, 185, 180, ...]\n",
    "\n",
    "Each element in the lists corresponds to a player. The first list, positions, contains strings representing each player's position. The possible positions are: 'GK' (goalkeeper), 'M' (midfield), 'A' (attack) and 'D' (defense). The second list, heights, contains integers representing the height of the player in cm. The first player in the lists is a goalkeeper and is pretty tall (191 cm).\n",
    "\n",
    "You're fairly confident that the median height of goalkeepers is higher than that of other players on the soccer field. Some of your friends don't believe you, so you are determined to show them using the data you received from FIFA and your newly acquired Python skills.\n",
    "\n",
    "\n",
    "***Instructions***\n",
    "\n",
    "Convert heights and positions, which are regular lists, to numpy arrays. Call them np_heights and np_positions.\n",
    "Extract all the heights of the goalkeepers. You can use a little trick here: use np_positions == 'GK' as an index for np_heights. Assign the result to gk_heights.\n",
    "Extract all the heights of all the other players. This time use np_positions != 'GK' as an index for np_heights. Assign the result to other_heights.\n",
    "Print out the median height of the goalkeepers using np.median(). Replace None with the correct code.\n",
    "Do the same for the other players. Print out their median height. Replace None with the correct code."
   ]
  },
  {
   "cell_type": "code",
   "execution_count": 55,
   "id": "eb8917e5",
   "metadata": {},
   "outputs": [],
   "source": [
    "# heights and positions are available as lists\n",
    "\n",
    "# Import numpy\n",
    "#import numpy as np\n",
    "\n",
    "# Convert positions and heights to numpy arrays: np_positions, np_heights\n",
    "#np_positions = np.array(positions)\n",
    "#np_heights = np.array(heights)\n",
    "\n",
    "# Heights of the goalkeepers: gk_heights\n",
    "#gk_heights = np_heights[np_positions == 'GK']\n",
    "\n",
    "# Heights of the other players: other_heights\n",
    "#other_heights = np_heights[np_positions != 'GK']\n",
    "\n",
    "# Print out the median height of goalkeepers. Replace 'None'\n",
    "#print(\"Median height of goalkeepers: \" + str(np.median(gk_heights)))\n",
    "\n",
    "# Print out the median height of other players. Replace 'None'\n",
    "#print(\"Median height of other players: \" + str(np.median(other_heights)))\n"
   ]
  },
  {
   "cell_type": "code",
   "execution_count": null,
   "id": "7248c788",
   "metadata": {},
   "outputs": [],
   "source": []
  }
 ],
 "metadata": {
  "kernelspec": {
   "display_name": "Python 3 (ipykernel)",
   "language": "python",
   "name": "python3"
  },
  "language_info": {
   "codemirror_mode": {
    "name": "ipython",
    "version": 3
   },
   "file_extension": ".py",
   "mimetype": "text/x-python",
   "name": "python",
   "nbconvert_exporter": "python",
   "pygments_lexer": "ipython3",
   "version": "3.9.13"
  }
 },
 "nbformat": 4,
 "nbformat_minor": 5
}
